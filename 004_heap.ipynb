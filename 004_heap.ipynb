{
 "cells": [
  {
   "cell_type": "markdown",
   "id": "eda8b161-34c1-4095-9fe1-bceb6caeabd4",
   "metadata": {},
   "source": [
    "## minHeap Building"
   ]
  },
  {
   "cell_type": "code",
   "execution_count": 3,
   "id": "aa5c4281-2d7c-42d9-81a9-dddeeb6e4f6d",
   "metadata": {},
   "outputs": [],
   "source": [
    "def minHeapify(arr,n,i):\n",
    "    l = 2 * i +1\n",
    "    r = 2*i +2\n",
    "    min = i\n",
    "    if arr[l] < arr[min]:\n",
    "        min = l\n",
    "    elif arr[r] < arr[min]:\n",
    "        min = r\n",
    "    heapify(arr,n,smallest)\n",
    "\n",
    "def buildHeap(arr,n):\n",
    "    s_ind = n//2 - 1\n",
    "    for i in range(s_ind,-1,-1):\n",
    "        heapify(arr,n,i)"
   ]
  },
  {
   "cell_type": "code",
   "execution_count": null,
   "id": "d93cfc08-3d0c-4e06-8d15-3edfa9290e5f",
   "metadata": {},
   "outputs": [],
   "source": []
  }
 ],
 "metadata": {
  "kernelspec": {
   "display_name": "Python 3 (ipykernel)",
   "language": "python",
   "name": "python3"
  },
  "language_info": {
   "codemirror_mode": {
    "name": "ipython",
    "version": 3
   },
   "file_extension": ".py",
   "mimetype": "text/x-python",
   "name": "python",
   "nbconvert_exporter": "python",
   "pygments_lexer": "ipython3",
   "version": "3.12.0"
  }
 },
 "nbformat": 4,
 "nbformat_minor": 5
}
