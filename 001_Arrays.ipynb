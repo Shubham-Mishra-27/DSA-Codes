{
 "cells": [
  {
   "cell_type": "markdown",
   "id": "dbe2498a-4676-4390-a766-56439dd14a89",
   "metadata": {
    "jp-MarkdownHeadingCollapsed": true
   },
   "source": [
    "## Linear Search"
   ]
  },
  {
   "cell_type": "markdown",
   "id": "b2618d1f-6452-40da-b72f-2321002f1ae8",
   "metadata": {
    "jp-MarkdownHeadingCollapsed": true
   },
   "source": [
    "## fuction definition:\n"
   ]
  },
  {
   "cell_type": "code",
   "execution_count": 2,
   "id": "443aee09-1a20-4f32-a48e-13b5c42563bc",
   "metadata": {},
   "outputs": [],
   "source": [
    "def linearsearch(arr,x):\n",
    "    for i in range(0,len(arr)-1):\n",
    "        if arr[i]==x:\n",
    "            return i\n",
    "    return -1"
   ]
  },
  {
   "cell_type": "code",
   "execution_count": 15,
   "id": "048265d7-6863-4d1c-9865-15657b6c3a84",
   "metadata": {
    "scrolled": true
   },
   "outputs": [
    {
     "name": "stdout",
     "output_type": "stream",
     "text": [
      "Searching element is present at index 5\n"
     ]
    }
   ],
   "source": [
    "#Drivier code\n",
    "arr = [20,45,27,47,55,67,75,88,90]\n",
    "n=len(arr)\n",
    "\n",
    "#function calling\n",
    "## time complexity: O(n)\n",
    "## space complexity: O(1)\n",
    "\n",
    "ls = linearsearch(arr,67)\n",
    "print(\"Searching element is present at index\",ls)"
   ]
  },
  {
   "cell_type": "markdown",
   "id": "e3eb048b-93ad-4551-9ff9-065b9dbc9153",
   "metadata": {
    "jp-MarkdownHeadingCollapsed": true
   },
   "source": [
    "## Binary Search\n",
    "## with Recursion"
   ]
  },
  {
   "cell_type": "code",
   "execution_count": 6,
   "id": "80d78e57-9319-40e7-9aba-e64c1c2d1e54",
   "metadata": {},
   "outputs": [],
   "source": [
    "def binarySearch(arr,x,left,right):\n",
    "    while(left <= right):\n",
    "        mid = left+(right-left)//2\n",
    "        if arr[mid]==x:\n",
    "            return mid\n",
    "        elif arr[mid]<x:\n",
    "            return binarySearch(arr,x,mid+1,right)\n",
    "        else:\n",
    "            return binarySearch(arr,x,left,mid-1)\n",
    "    return -1"
   ]
  },
  {
   "cell_type": "code",
   "execution_count": 10,
   "id": "8820bfa6-2452-4690-8fdf-37a0e54e048e",
   "metadata": {},
   "outputs": [
    {
     "name": "stdout",
     "output_type": "stream",
     "text": [
      "Result is present at 6\n"
     ]
    }
   ],
   "source": [
    "arr = [20,30,40,50,60,70,80,90]\n",
    "x = 80\n",
    "result = binarySearch(arr,x,0,7)\n",
    "print(\"Result is present at\",result)"
   ]
  },
  {
   "cell_type": "markdown",
   "id": "7e2510a6-7ac0-41bf-bd4d-55e12aebc709",
   "metadata": {
    "jp-MarkdownHeadingCollapsed": true
   },
   "source": [
    "## Binary Search\n",
    "## without Recursion"
   ]
  },
  {
   "cell_type": "code",
   "execution_count": 13,
   "id": "30de650a-73b4-45d2-b649-c68096593cd4",
   "metadata": {},
   "outputs": [],
   "source": [
    "def binarySearch(arr,x,left,right):\n",
    "    while(left <= right):\n",
    "        mid = left+(right-left)//2\n",
    "        if arr[mid]==x:\n",
    "            return mid\n",
    "        elif arr[mid]<x:\n",
    "            left = mid+1\n",
    "        else:\n",
    "            right = mid-1\n",
    "    return -1"
   ]
  },
  {
   "cell_type": "code",
   "execution_count": 20,
   "id": "749a1ef7-019a-40fd-a8f6-524d72400482",
   "metadata": {},
   "outputs": [
    {
     "name": "stdout",
     "output_type": "stream",
     "text": [
      "Result is present at 6\n"
     ]
    }
   ],
   "source": [
    "arr = [20,30,40,50,60,70,80,90]\n",
    "x = 80\n",
    "result = binarySearch(arr,x,0,7)\n",
    "print(\"Result is present at\",result)"
   ]
  },
  {
   "cell_type": "markdown",
   "id": "32314b96-ff88-41e8-b226-6c69fa6c59e6",
   "metadata": {},
   "source": [
    "## Two pointer approach\n",
    "## Interview Questions"
   ]
  },
  {
   "cell_type": "code",
   "execution_count": null,
   "id": "c7b2547c-00ec-48cf-9adc-07e02a020ea2",
   "metadata": {},
   "outputs": [],
   "source": [
    "def search_sum(arr,target):\n",
    "    l = 0\n",
    "    r = len(arr) - 1\n",
    "    while l <= r:\n",
    "        if arr[l]+arr[r]== target:\n",
    "            return l,r\n",
    "        elif arr[l] + arr[r] > target:\n",
    "            r = r - 1\n",
    "        else:\n",
    "            l = l + 1"
   ]
  },
  {
   "cell_type": "code",
   "execution_count": null,
   "id": "abbff346-6f15-4740-b0a7-e82ebfa1f291",
   "metadata": {},
   "outputs": [],
   "source": [
    "arr = [20,40,60,80,90,120,240]\n",
    "target = 210\n",
    "a,b = search_sum(arr,target)\n",
    "print(a,b)"
   ]
  },
  {
   "cell_type": "markdown",
   "id": "50d41cdd-8acd-4574-a571-3e39f732e638",
   "metadata": {},
   "source": [
    "## 2D Array Interview Question"
   ]
  },
  {
   "cell_type": "code",
   "execution_count": 6,
   "id": "9bfeabe2-9a91-47d1-b278-4408b25c8e42",
   "metadata": {},
   "outputs": [],
   "source": [
    "def search(arr,target):\n",
    "    m = len(arr)\n",
    "    if m == 0:\n",
    "        return False\n",
    "    n = len(arr[0])\n",
    "    left , right = 0, m * n-1\n",
    "\n",
    "    while left <= right:\n",
    "        mid = left + (right-left)//2 \n",
    "        mid_element = arr[mid//n][mid%n]\n",
    "        if target == mid_element:\n",
    "            return True\n",
    "        elif target < mid_element:\n",
    "            right = mid - 1\n",
    "        else:\n",
    "            left = mid + 1\n",
    "    return False\n",
    "list = [[1,3,5,7],\n",
    "        [10,11,16,20],\n",
    "        [23,30,34,60]]"
   ]
  },
  {
   "cell_type": "code",
   "execution_count": 9,
   "id": "c90c154d-e0fe-4a45-88b9-3bccc483d7f5",
   "metadata": {},
   "outputs": [
    {
     "name": "stdout",
     "output_type": "stream",
     "text": [
      "True\n"
     ]
    }
   ],
   "source": [
    "x = 60\n",
    "print(search(list,x))"
   ]
  },
  {
   "cell_type": "code",
   "execution_count": null,
   "id": "e0028e48-10bf-49a1-ab2f-62acbbfd4749",
   "metadata": {},
   "outputs": [],
   "source": []
  }
 ],
 "metadata": {
  "kernelspec": {
   "display_name": "Python 3 (ipykernel)",
   "language": "python",
   "name": "python3"
  },
  "language_info": {
   "codemirror_mode": {
    "name": "ipython",
    "version": 3
   },
   "file_extension": ".py",
   "mimetype": "text/x-python",
   "name": "python",
   "nbconvert_exporter": "python",
   "pygments_lexer": "ipython3",
   "version": "3.12.0"
  }
 },
 "nbformat": 4,
 "nbformat_minor": 5
}
