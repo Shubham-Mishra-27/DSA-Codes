{
 "cells": [
  {
   "cell_type": "markdown",
   "id": "54a8c34c-6334-4b2f-bff4-40a5ec30c815",
   "metadata": {
    "jp-MarkdownHeadingCollapsed": true
   },
   "source": [
    "## Quick Sort"
   ]
  },
  {
   "cell_type": "code",
   "execution_count": 2,
   "id": "b8784fb7-5880-42b5-a6c7-a3153c2e361e",
   "metadata": {},
   "outputs": [],
   "source": [
    "# function definition\n",
    "# Quick Sort Algorithm \n",
    "\n",
    "def QS(arr,p,q):\n",
    "    if p<q:\n",
    "    # big problem\n",
    "    # Divide & Conquer\n",
    "        # call for partition algorithm\n",
    "        mid = partition(arr,p,q)\n",
    "        # call for left subarray\n",
    "        QS(arr,p,mid-1)\n",
    "        # call for right subarray\n",
    "        QS(arr,mid+1,q)"
   ]
  },
  {
   "cell_type": "code",
   "execution_count": 3,
   "id": "38a8ddcd-156a-41b8-95af-0d3fe2067d0f",
   "metadata": {},
   "outputs": [],
   "source": [
    "# partition algorithm definition\n",
    "\n",
    "def partition(arr,p,q):\n",
    "    # choose pivot element\n",
    "    pivot = arr[p]\n",
    "    \n",
    "    i = p\n",
    "    \n",
    "    for j in range(i+1,q):\n",
    "        \n",
    "        if arr[j] < pivot:\n",
    "            # swap the values at i and j index after incrementing i\n",
    "            i += 1\n",
    "            arr[i],arr[j]=arr[j],arr[i]\n",
    "    # swap values of pivot and arr[i]\n",
    "    arr[i],arr[p] = arr[p], arr[i]\n",
    "    # return index of pivot element\n",
    "    return i"
   ]
  },
  {
   "cell_type": "code",
   "execution_count": 4,
   "id": "67b0ece7-bc48-4254-a59d-a883e8b9cb4c",
   "metadata": {},
   "outputs": [
    {
     "name": "stdout",
     "output_type": "stream",
     "text": [
      "[23, 34, 56, 76, 78, 90, 93, 24, 100]\n"
     ]
    }
   ],
   "source": [
    "arr = [100,76,34,23,78,90,93,24,56]\n",
    "QS(arr,0,len(arr))\n",
    "print(arr)"
   ]
  },
  {
   "cell_type": "markdown",
   "id": "fe257cbe-0c56-4fe9-a2e6-b5014d97463c",
   "metadata": {},
   "source": [
    "## Randomized Quick Sort"
   ]
  },
  {
   "cell_type": "code",
   "execution_count": null,
   "id": "f43c54c5-67c9-4070-8d01-3cd176a298ad",
   "metadata": {},
   "outputs": [],
   "source": []
  }
 ],
 "metadata": {
  "kernelspec": {
   "display_name": "Python 3 (ipykernel)",
   "language": "python",
   "name": "python3"
  },
  "language_info": {
   "codemirror_mode": {
    "name": "ipython",
    "version": 3
   },
   "file_extension": ".py",
   "mimetype": "text/x-python",
   "name": "python",
   "nbconvert_exporter": "python",
   "pygments_lexer": "ipython3",
   "version": "3.12.0"
  }
 },
 "nbformat": 4,
 "nbformat_minor": 5
}
