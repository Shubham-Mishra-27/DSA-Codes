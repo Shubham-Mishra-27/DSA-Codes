{
 "cells": [
  {
   "cell_type": "markdown",
   "id": "6481b43d-c73a-4733-9a0a-bb403802a6bc",
   "metadata": {},
   "source": [
    "## Merge Sort"
   ]
  },
  {
   "cell_type": "code",
   "execution_count": 44,
   "id": "601b5e60-5b4f-42d8-81da-7826f0da96a1",
   "metadata": {},
   "outputs": [],
   "source": [
    "# function definition of merge Procedure\n",
    "# n1 + n2 = N\n",
    "# Time Complexity of Merge Procedure - O(N)\n",
    "\n",
    "def mergeProcedure(arr,i,mid,j):\n",
    "    # number of elements in left subarray\n",
    "    n1 = mid - i + 1\n",
    "    #number of elements in right subarray\n",
    "    n2 = j - mid\n",
    "    # initialisation of let and right subaray\n",
    "    leftSubArray =  [0] * (n1)\n",
    "    rightSubArray = [0] * (n2)\n",
    "    # copy the elements from an array to subarrays\n",
    "    for m in range(0,n1):\n",
    "        leftSubArray[m] = arr[i+m]\n",
    "    for n in range(0,n2):\n",
    "        rightSubArray[n] = arr[mid + 1 + n]\n",
    "\n",
    "    p = 0\n",
    "    q = 0\n",
    "    k = i\n",
    "\n",
    "    # Comparison of Elements of Left and Right SubArray\n",
    "    while p < n1 and q < n2:\n",
    "        if leftSubArray[p] < rightSubArray[q]:\n",
    "            # Assigning the element in original array\n",
    "            arr[k] = leftSubArray[p]\n",
    "            p += 1\n",
    "        else:\n",
    "            arr[k] = rightSubArray[q]\n",
    "            q += 1\n",
    "        # Original Array pointer updation\n",
    "        k += 1\n",
    "\n",
    "    # Copy elements from leftSubArray if present\n",
    "    while p < n1:\n",
    "        arr[k] = leftSubArray[p]\n",
    "        p += 1\n",
    "        k += 1\n",
    "\n",
    "    # Copy elements from rightSubArray if present\n",
    "    while q < n2:\n",
    "        arr[k] = rightSubArray[q]\n",
    "        q += 1\n",
    "        k += 1\n",
    "    \n",
    "# Function definition of Merge Sort\n",
    "# Approach -> Divide And Conquer\n",
    "# Time Complexity -> O(N log N)\n",
    "\n",
    "def mergeSort(arr,p,q):\n",
    "    \n",
    "    # Big Problem\n",
    "    if p < q:\n",
    "        # 1. Divide \n",
    "        mid = p + (q-p)//2\n",
    "        # 2. Conquer\n",
    "        # recursive call for left subArrays\n",
    "        mergeSort(arr,p,mid)\n",
    "        # recursive call for right subArray\n",
    "        mergeSort(arr,mid+1,q)\n",
    "        # 3. Combine\n",
    "        # Merge Procedure Function Calling\n",
    "        mergeProcedure(arr,p,mid,q)"
   ]
  },
  {
   "cell_type": "code",
   "execution_count": 46,
   "id": "5c39dc4a-12ff-4a9a-a1b4-bebbe6e594e0",
   "metadata": {},
   "outputs": [
    {
     "name": "stdout",
     "output_type": "stream",
     "text": [
      "The array after Merge Sort is :  [78, 123]\n"
     ]
    }
   ],
   "source": [
    "arr = [123,78]\n",
    "n = len(arr)\n",
    "mergeSort(arr,0,n-1)\n",
    "print(\"The array after Merge Sort is : \",arr)"
   ]
  },
  {
   "cell_type": "code",
   "execution_count": null,
   "id": "42ca1b05-929c-4d1c-a01d-f68d8bbee05d",
   "metadata": {},
   "outputs": [],
   "source": []
  },
  {
   "cell_type": "code",
   "execution_count": null,
   "id": "591eaae0-a97b-461d-8477-84262f814103",
   "metadata": {},
   "outputs": [],
   "source": []
  }
 ],
 "metadata": {
  "kernelspec": {
   "display_name": "Python 3 (ipykernel)",
   "language": "python",
   "name": "python3"
  },
  "language_info": {
   "codemirror_mode": {
    "name": "ipython",
    "version": 3
   },
   "file_extension": ".py",
   "mimetype": "text/x-python",
   "name": "python",
   "nbconvert_exporter": "python",
   "pygments_lexer": "ipython3",
   "version": "3.12.0"
  }
 },
 "nbformat": 4,
 "nbformat_minor": 5
}
