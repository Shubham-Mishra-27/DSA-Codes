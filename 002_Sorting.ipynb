{
 "cells": [
  {
   "cell_type": "markdown",
   "id": "d799bf8a-73bf-4655-952a-ef6eebc32e58",
   "metadata": {
    "jp-MarkdownHeadingCollapsed": true
   },
   "source": [
    "## BUBBLE SORT"
   ]
  },
  {
   "cell_type": "code",
   "execution_count": 12,
   "id": "3fde07c3-502e-466e-8f72-f051c3c95eed",
   "metadata": {},
   "outputs": [
    {
     "name": "stdout",
     "output_type": "stream",
     "text": [
      "Array after bubble Sort :  [20, 35, 47, 50, 60, 70]\n"
     ]
    }
   ],
   "source": [
    "# method implementation\n",
    "def bubbleSort(arr):\n",
    "    for i in range(len(arr)):\n",
    "        for j in range(0,len(arr)-i-1):\n",
    "            if arr[j] > arr[j+1]:\n",
    "                arr[j] , arr[j+1] = arr[j+1],arr[j]\n",
    "        # to check after every pass\n",
    "        # print(arr)\n",
    "    return arr\n",
    "# driver code\n",
    "arr = [70,20,50,60,35,47]\n",
    "result = bubbleSort(arr)\n",
    "print(\"Array after bubble Sort : \",result)"
   ]
  },
  {
   "cell_type": "markdown",
   "id": "6376e1fc-3491-47ce-af5d-73f9056e6285",
   "metadata": {
    "jp-MarkdownHeadingCollapsed": true
   },
   "source": [
    "## SELECTION SORT"
   ]
  },
  {
   "cell_type": "code",
   "execution_count": 1,
   "id": "a57e555d-d734-438a-8d81-5008fa5b41f2",
   "metadata": {},
   "outputs": [
    {
     "name": "stdout",
     "output_type": "stream",
     "text": [
      "Array after Selection Sort :  [5, 15, 20, 30, 50, 70, 90]\n"
     ]
    }
   ],
   "source": [
    "# method implementation\n",
    "def selectionSort(arr):\n",
    "    for i in range(len(arr)):\n",
    "        min = i\n",
    "        for j in range(i+1,len(arr)):\n",
    "            if arr[j] < arr[min]:\n",
    "                min = j\n",
    "        arr[i],arr[min] = arr[min],arr[i]\n",
    "    return arr\n",
    "\n",
    "# driver code\n",
    "arr = [70,20,50,30,90,5,15]\n",
    "result = selectionSort(arr)\n",
    "print(\"Array after Selection Sort : \", result)"
   ]
  },
  {
   "cell_type": "markdown",
   "id": "72ea4168-4e78-465c-8744-3cecbe3b8cb3",
   "metadata": {},
   "source": [
    "## Insertion Sort"
   ]
  },
  {
   "cell_type": "code",
   "execution_count": 4,
   "id": "16d7797a-1379-412c-8b00-85ba249f6ad8",
   "metadata": {},
   "outputs": [
    {
     "name": "stdout",
     "output_type": "stream",
     "text": [
      "Array after Insertion Sort :  [75, 80, 85, 90, 95, 100]\n"
     ]
    }
   ],
   "source": [
    "# function defenition\n",
    "\n",
    "def insertionSort(arr):\n",
    "    for i in range(len(arr)):\n",
    "        key = arr[i]\n",
    "        j = i - 1\n",
    "        while j>=0 and key < arr[j]:\n",
    "            arr[j+1] = arr[j]\n",
    "            j = j - 1\n",
    "        arr[j+1] = key\n",
    "    return arr\n",
    "\n",
    "# driver code\n",
    "\n",
    "arr = [75,90,100,95,85,80]\n",
    "result = insertionSort(arr)\n",
    "print(\"Array after Insertion Sort : \", result)"
   ]
  },
  {
   "cell_type": "code",
   "execution_count": null,
   "id": "d31540e8-cd0d-4370-ad6e-7a2d5ed308e3",
   "metadata": {},
   "outputs": [],
   "source": []
  }
 ],
 "metadata": {
  "kernelspec": {
   "display_name": "Python 3 (ipykernel)",
   "language": "python",
   "name": "python3"
  },
  "language_info": {
   "codemirror_mode": {
    "name": "ipython",
    "version": 3
   },
   "file_extension": ".py",
   "mimetype": "text/x-python",
   "name": "python",
   "nbconvert_exporter": "python",
   "pygments_lexer": "ipython3",
   "version": "3.12.0"
  }
 },
 "nbformat": 4,
 "nbformat_minor": 5
}
