{
 "cells": [
  {
   "cell_type": "markdown",
   "id": "77ce2527-f0c2-4d23-a3cd-c3776f0d973a",
   "metadata": {},
   "source": [
    "## Boyer Moore Voting Algorithm"
   ]
  },
  {
   "cell_type": "code",
   "execution_count": 6,
   "id": "488f45c1-f4f1-40b3-ae65-f403d15709b2",
   "metadata": {},
   "outputs": [],
   "source": [
    "## function definition - printing Majority Algorithm\n",
    "def printMajority(arr):\n",
    "    cand = findCandidate(arr)\n",
    "    if isMajorityElement(arr,cand):\n",
    "        print(\"Majority Element is\",cand)\n",
    "    else:\n",
    "        print(\"No Majority Element found..!!\")\n",
    "\n",
    "## function definition - Finding Candidate\n",
    "def findCandidate(arr):\n",
    "    cand = None\n",
    "    count = 0\n",
    "    for i in arr:\n",
    "        if count == 0:\n",
    "            cand = i\n",
    "        count += (1 if i==cand else -1)\n",
    "    return cand\n",
    "\n",
    "\n",
    "## function definition - isMajorityElement\n",
    "def isMajorityElement(arr,cand):\n",
    "    cnt = 0\n",
    "    size = len(arr)\n",
    "    for i in range(size):\n",
    "        if arr[i] == cand:\n",
    "            cnt+=1\n",
    "    if cnt > size/2:\n",
    "        return 1\n",
    "    else: \n",
    "        return 0"
   ]
  },
  {
   "cell_type": "code",
   "execution_count": 8,
   "id": "a96dbc93-5c2e-4922-aaa3-ba8a4acb76d3",
   "metadata": {},
   "outputs": [
    {
     "name": "stdout",
     "output_type": "stream",
     "text": [
      "Majority Element is 2\n"
     ]
    }
   ],
   "source": [
    "arr = [2,3,2,4,5,2,2,2,6,2]\n",
    "printMajority(arr)"
   ]
  },
  {
   "cell_type": "code",
   "execution_count": null,
   "id": "93b3f047-bc17-4aaa-8733-383f1f87c6e1",
   "metadata": {},
   "outputs": [],
   "source": []
  }
 ],
 "metadata": {
  "kernelspec": {
   "display_name": "Python 3 (ipykernel)",
   "language": "python",
   "name": "python3"
  },
  "language_info": {
   "codemirror_mode": {
    "name": "ipython",
    "version": 3
   },
   "file_extension": ".py",
   "mimetype": "text/x-python",
   "name": "python",
   "nbconvert_exporter": "python",
   "pygments_lexer": "ipython3",
   "version": "3.12.0"
  }
 },
 "nbformat": 4,
 "nbformat_minor": 5
}
