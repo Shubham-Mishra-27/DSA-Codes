{
 "cells": [
  {
   "cell_type": "markdown",
   "id": "a75ee139-c1f8-447b-b865-564c64d2fa9a",
   "metadata": {},
   "source": [
    "## Ternary Search"
   ]
  },
  {
   "cell_type": "code",
   "execution_count": 19,
   "id": "6dacc931-7f6d-47b3-8cf1-08dec7952426",
   "metadata": {},
   "outputs": [],
   "source": [
    "def ternarySearch(arr,i,j,key):\n",
    "    mid1 = i + ( j - i )//3\n",
    "    mid2 = j - ( j - i )//3\n",
    "    while i<=j:\n",
    "        if arr[mid1] == key:\n",
    "            return mid1\n",
    "        elif arr[mid2] == key:\n",
    "            return mid2\n",
    "        elif arr[mid1]> key:\n",
    "            return ternarySearch(arr,i,mid1-1,key)\n",
    "        elif arr[mid2] < key:\n",
    "            return ternarySearch(arr,mid2+1,j,key)\n",
    "        else:\n",
    "            return ternarySearch(arr,mid1+1,mid2,key)\n",
    "        return -1"
   ]
  },
  {
   "cell_type": "code",
   "execution_count": 20,
   "id": "b1fb8f41-333d-4e15-a6f7-17a54ac05e28",
   "metadata": {},
   "outputs": [
    {
     "name": "stdin",
     "output_type": "stream",
     "text": [
      "Enter the array.. (comma separated) 20,25,47,56,59,63,65,79,82\n",
      "Enter the number to search in the array 63\n"
     ]
    },
    {
     "name": "stdout",
     "output_type": "stream",
     "text": [
      "Result is present at 5\n"
     ]
    }
   ],
   "source": [
    "arr = eval(input(\"Enter the array.. (comma separated)\"))\n",
    "key = int(input(\"Enter the number to search in the array\"))\n",
    "result = ternarySearch(arr,0,len(arr)-1,key)\n",
    "print(\"Result is present at\",result)"
   ]
  },
  {
   "cell_type": "code",
   "execution_count": null,
   "id": "d9da60b4-4119-41ff-a8a1-1a8c1ff22aa3",
   "metadata": {},
   "outputs": [],
   "source": []
  }
 ],
 "metadata": {
  "kernelspec": {
   "display_name": "Python 3 (ipykernel)",
   "language": "python",
   "name": "python3"
  },
  "language_info": {
   "codemirror_mode": {
    "name": "ipython",
    "version": 3
   },
   "file_extension": ".py",
   "mimetype": "text/x-python",
   "name": "python",
   "nbconvert_exporter": "python",
   "pygments_lexer": "ipython3",
   "version": "3.12.0"
  }
 },
 "nbformat": 4,
 "nbformat_minor": 5
}
