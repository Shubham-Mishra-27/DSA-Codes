{
 "cells": [
  {
   "cell_type": "markdown",
   "id": "0f65c7e3-150f-4ee6-87cd-8f042f448751",
   "metadata": {},
   "source": [
    "## Count of Number Of Inversions"
   ]
  },
  {
   "cell_type": "code",
   "execution_count": 52,
   "id": "0d650fdc-1d8a-44ba-9046-67db24e6cbd9",
   "metadata": {},
   "outputs": [],
   "source": [
    "## function definition\n",
    "def mergeAndCount(arr,i,mid,j):\n",
    "    count = 0\n",
    "    n1 = mid - i + 1\n",
    "    n2 = j - mid\n",
    "    leftSubArray =  [0] * (n1)\n",
    "    rightSubArray = [0] * (n2)\n",
    "    for m in range(0,n1):\n",
    "        leftSubArray[m] = arr[i+m]\n",
    "    for n in range(0,n2):\n",
    "        rightSubArray[n] = arr[mid + 1 + n]\n",
    "\n",
    "    p = 0\n",
    "    q = 0\n",
    "    k = i\n",
    "    \n",
    "    while p < n1 and q < n2:\n",
    "        if leftSubArray[p] <= rightSubArray[q]:\n",
    "            arr[k] = leftSubArray[p]\n",
    "            p += 1\n",
    "        else:\n",
    "            arr[k] = rightSubArray[q]\n",
    "            count += (mid - i + 1 - p)\n",
    "            q += 1\n",
    "        k += 1\n",
    "\n",
    "    while p < n1:\n",
    "        arr[k] = leftSubArray[p]\n",
    "        p += 1\n",
    "        k += 1\n",
    "    while q < n2:\n",
    "        arr[k] = rightSubArray[q]\n",
    "        q += 1\n",
    "        k += 1\n",
    "    return count\n",
    "\n",
    "\n",
    "def countInversion(arr,i,j):\n",
    "    count = 0\n",
    "    # small problem    \n",
    "    # if i == j:\n",
    "    #     count += 0\n",
    "    #     return count\n",
    "\n",
    "    # # big problem\n",
    "    # else:\n",
    "    if i < j:\n",
    "        mid = i+(j-i)//2\n",
    "\n",
    "        count += countInversion(arr,i,mid)\n",
    "        count += countInversion(arr,mid+1,j)\n",
    "        count += mergeAndCount(arr,i,mid,j)\n",
    "    \n",
    "    return count\n"
   ]
  },
  {
   "cell_type": "code",
   "execution_count": 58,
   "id": "650240a2-fae4-44e6-b6c1-d678c54f10e3",
   "metadata": {},
   "outputs": [
    {
     "name": "stdout",
     "output_type": "stream",
     "text": [
      "Count of inversions in the given array 17\n"
     ]
    }
   ],
   "source": [
    "arr = [70,50,60,10,20,30,90,15]\n",
    "print(\"Count of inversions in the given array\",countInversion(arr,0,len(arr)-1))"
   ]
  },
  {
   "cell_type": "code",
   "execution_count": null,
   "id": "46401ddc-2346-4f1d-8d60-9289cb6e6f2f",
   "metadata": {},
   "outputs": [],
   "source": []
  }
 ],
 "metadata": {
  "kernelspec": {
   "display_name": "Python 3 (ipykernel)",
   "language": "python",
   "name": "python3"
  },
  "language_info": {
   "codemirror_mode": {
    "name": "ipython",
    "version": 3
   },
   "file_extension": ".py",
   "mimetype": "text/x-python",
   "name": "python",
   "nbconvert_exporter": "python",
   "pygments_lexer": "ipython3",
   "version": "3.12.0"
  }
 },
 "nbformat": 4,
 "nbformat_minor": 5
}
