{
 "cells": [
  {
   "cell_type": "markdown",
   "id": "b75b83cd-7103-44e0-a17d-cf892e5a0f42",
   "metadata": {
    "jp-MarkdownHeadingCollapsed": true
   },
   "source": [
    "## Finding Minimum and Maximum from Array"
   ]
  },
  {
   "cell_type": "code",
   "execution_count": 12,
   "id": "3903c5fd-f8a2-4c91-98a6-f81d89b27ba1",
   "metadata": {},
   "outputs": [],
   "source": [
    "def findMinAndMax(arr,i,j):\n",
    "    # Small Problem\n",
    "    # Single element condition\n",
    "    if i == j:\n",
    "        min = arr[i]\n",
    "        max = arr[i]\n",
    "\n",
    "    # two element condition\n",
    "    elif i == j-1:\n",
    "        if arr[i] < arr[j]:\n",
    "            min = arr[i]\n",
    "            max = arr[j]\n",
    "        else:\n",
    "            min = arr[j]\n",
    "            max = arr[i]\n",
    "\n",
    "    # big problem -> n > 2\n",
    "    else:\n",
    "        # Divide and Conquer approach\n",
    "        # 1. Divide\n",
    "        mid = i + (j-i)//2\n",
    "\n",
    "        # Recursion -> Conquer\n",
    "        min1 , max1 = findMinAndMax(arr, i, mid)\n",
    "        min2 , max2 = findMinAndMax(arr, mid, j)\n",
    "\n",
    "\n",
    "        # 3. Combine\n",
    "        # To find final max and min\n",
    "        if min1 < min2:\n",
    "            min = min1\n",
    "        else:\n",
    "            min = min2\n",
    "            \n",
    "        if max1 < max2:\n",
    "            max = max2\n",
    "        else:\n",
    "            max = max1\n",
    "    return (min,max)"
   ]
  },
  {
   "cell_type": "code",
   "execution_count": 18,
   "id": "308a6ea1-c306-4267-ac6e-99c841a6fde3",
   "metadata": {},
   "outputs": [
    {
     "name": "stdout",
     "output_type": "stream",
     "text": [
      "The minimum and maximum in the given array are 20 and 92 respectively.\n"
     ]
    }
   ],
   "source": [
    "arr = [20,39,45,65,21,44,89,92]\n",
    "i = 0\n",
    "j = len(arr) - 1\n",
    "min, max = findMinAndMax(arr,i,j)\n",
    "print(\"The minimum and maximum in the given array are {} and {} respectively.\".format(min,max))"
   ]
  },
  {
   "cell_type": "markdown",
   "id": "cb625b0e-1941-4fe5-b22f-43f78865b22c",
   "metadata": {
    "jp-MarkdownHeadingCollapsed": true
   },
   "source": [
    "## Finding Power of an Element"
   ]
  },
  {
   "cell_type": "code",
   "execution_count": 1,
   "id": "a60be56e-b378-4f82-81ce-e166f6a22ebc",
   "metadata": {},
   "outputs": [],
   "source": [
    "# Function definition for finding power of a number\n",
    "def findPower(a,n):\n",
    "    # small problem\n",
    "    if n ==0:\n",
    "        return 1\n",
    "\n",
    "    # small problem\n",
    "    elif n == 1:\n",
    "        return a\n",
    "\n",
    "    # big Problem\n",
    "    else:\n",
    "        # 1. Divide\n",
    "        mid = n//2\n",
    "\n",
    "        # 2. Conquer\n",
    "        ans = findPower(a,mid)\n",
    "\n",
    "        # 3. Combine\n",
    "        result = ans * ans\n",
    "    if n % 2 == 0:\n",
    "        return result\n",
    "    return result * a"
   ]
  },
  {
   "cell_type": "code",
   "execution_count": 7,
   "id": "bd3b521d-553a-4341-b3cf-b1fabc5a16c1",
   "metadata": {},
   "outputs": [
    {
     "name": "stdin",
     "output_type": "stream",
     "text": [
      "Enter base number: 2\n",
      "Enter power to find: 16\n"
     ]
    },
    {
     "name": "stdout",
     "output_type": "stream",
     "text": [
      "The result of 2 raised to power 16 is 65536\n"
     ]
    }
   ],
   "source": [
    "n = int(input(\"Enter base number:\"))\n",
    "m = int(input(\"Enter power to find:\"))\n",
    "print(\"The result of {} raised to power {} is {}\".format(n,m,findPower(n,m)))"
   ]
  },
  {
   "cell_type": "markdown",
   "id": "9b45b80c-ebf4-44f3-883c-ede5fbfa294d",
   "metadata": {
    "jp-MarkdownHeadingCollapsed": true
   },
   "source": [
    "## Interview Question- No. of ways to climb stairs"
   ]
  },
  {
   "cell_type": "code",
   "execution_count": 17,
   "id": "bfef4b7a-09d0-43ff-ab17-dd15bc0e5425",
   "metadata": {},
   "outputs": [],
   "source": [
    "#Function definition\n",
    "def ways(n):\n",
    "    # small problem\n",
    "    if n == 0:\n",
    "        return 0\n",
    "\n",
    "    #small problem\n",
    "    elif n == 1:\n",
    "        return 1\n",
    "\n",
    "    #small problem\n",
    "    elif n == 2:\n",
    "        return 2\n",
    "\n",
    "    #big problem\n",
    "    else:\n",
    "        # 1. Divide \n",
    "        # 2. conquer\n",
    "        # 3. combine\n",
    "        ans = ways(n-1) + ways(n-2)\n",
    "    return ans"
   ]
  },
  {
   "cell_type": "code",
   "execution_count": 20,
   "id": "61bf4b14-75f2-4321-a870-02ed49769ba8",
   "metadata": {},
   "outputs": [
    {
     "name": "stdin",
     "output_type": "stream",
     "text": [
      "Enter number of Stairs: 10\n"
     ]
    },
    {
     "name": "stdout",
     "output_type": "stream",
     "text": [
      "The number of ways to climb 10 stairs is : 89\n"
     ]
    }
   ],
   "source": [
    "n = int(input(\"Enter number of Stairs:\"))\n",
    "res =  ways(n)\n",
    "print(\"The number of ways to climb {} stairs is : {}\".format(n,res))"
   ]
  },
  {
   "cell_type": "markdown",
   "id": "5998ebfc-c5d0-43b1-96b3-4d78e277a097",
   "metadata": {},
   "source": [
    "## a"
   ]
  },
  {
   "cell_type": "code",
   "execution_count": null,
   "id": "0a6e8ab5-ca2a-476f-9d81-8a2d858f8864",
   "metadata": {},
   "outputs": [],
   "source": []
  }
 ],
 "metadata": {
  "kernelspec": {
   "display_name": "Python 3 (ipykernel)",
   "language": "python",
   "name": "python3"
  },
  "language_info": {
   "codemirror_mode": {
    "name": "ipython",
    "version": 3
   },
   "file_extension": ".py",
   "mimetype": "text/x-python",
   "name": "python",
   "nbconvert_exporter": "python",
   "pygments_lexer": "ipython3",
   "version": "3.12.0"
  }
 },
 "nbformat": 4,
 "nbformat_minor": 5
}
